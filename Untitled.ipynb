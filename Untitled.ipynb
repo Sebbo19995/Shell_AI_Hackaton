{
 "cells": [
  {
   "cell_type": "code",
   "execution_count": 179,
   "id": "73204c6f-0de3-4472-95d5-c692f7b74ac4",
   "metadata": {},
   "outputs": [],
   "source": [
    "import pandas as pd\n",
    "import numpy as np\n",
    "from decimal import Decimal\n",
    "import matplotlib.pyplot as plt\n"
   ]
  },
  {
   "cell_type": "code",
   "execution_count": 182,
   "id": "2f7e32bc-b249-4de5-97ad-1b7f370a7f6f",
   "metadata": {},
   "outputs": [],
   "source": [
    "df = pd.read_csv('./data/exisiting_EV_infrastructure_2018.csv')\n",
    "df_history = pd.read_csv('./data/Demand_History.csv')"
   ]
  },
  {
   "cell_type": "code",
   "execution_count": 178,
   "id": "e6d2626c-32b7-42c8-a679-9c525f83ab8b",
   "metadata": {},
   "outputs": [],
   "source": [
    "\n",
    "df_supply_2019 = pd.read_csv('./Output/Highscore_tests/supply_charger_2019.csv')\n",
    "df_supply_2020 = pd.read_csv('./Output/Highscore_tests/supply_charger_2020.csv')\n",
    "df_demand_2019 = pd.read_csv('./Output/Highscore_tests/demand_to_supply_2019.csv')\n",
    "df_demand_2020 = pd.read_csv('./Output/Highscore_tests/demand_to_supply_2020.csv')\n",
    "\n",
    "df_demand_2019['Supply_Index'] = pd.to_numeric(df_demand_2019['Supply_Index'],downcast='integer')\n",
    "df_demand_2020['Supply_Index'] = pd.to_numeric(df_demand_2020['Supply_Index'],downcast='integer')\n",
    "df_solution_demand_2020 = pd.DataFrame({'year':2020,'data_type':'DS','demand_point_index':df_demand_2020['Demand_Index'],'supply_point_index':df_demand_2020['Supply_Index'],'value':df_demand_2020['Demand_Satisfied']})\n",
    "df_solution_demand_2019 = pd.DataFrame({'year':2019,'data_type':'DS','demand_point_index':df_demand_2019['Demand_Index'],'supply_point_index':df_demand_2019['Supply_Index'],'value':df_demand_2019['Demand_Satisfied']})\n",
    "df_solution_supply_2019_FCS = pd.DataFrame({'year':2019,'data_type':'FCS','demand_point_index':'','supply_point_index':df_supply_2019['supply_point_index'],'value':df_supply_2019['existing_num_FCS']})\n",
    "df_solution_supply_2019_SCS = pd.DataFrame({'year':2019,'data_type':'SCS','demand_point_index':'','supply_point_index':df_supply_2019['supply_point_index'],'value':df_supply_2019['existing_num_SCS']})\n",
    "df_solution_supply_2020_FCS = pd.DataFrame({'year':2020,'data_type':'FCS','demand_point_index':'','supply_point_index':df_supply_2020['supply_point_index'],'value':df_supply_2020['existing_num_FCS']})\n",
    "df_solution_supply_2020_SCS = pd.DataFrame({'year':2020,'data_type':'SCS','demand_point_index':'','supply_point_index':df_supply_2020['supply_point_index'],'value':df_supply_2020['existing_num_SCS']})\n",
    "df_solution = pd.concat([df_solution_supply_2019_SCS,df_solution_supply_2019_FCS,df_solution_supply_2020_SCS,df_solution_supply_2020_FCS,df_solution_demand_2019,df_solution_demand_2020],axis=0)\n",
    "df_solution\n",
    "df_solution.reset_index(inplace = True)\n",
    "\n",
    "#TODO @Alex Rundung Optimieren\n",
    "def my_floor(a, precision=3):\n",
    "    return np.round(a - 0.5 * 10**(-precision), precision)\n",
    "df_solution['value'] = df_solution['value'].apply(my_floor)\n",
    "\n",
    "df_solution.to_csv('./Output/Highscore_tests/solution.csv', index=False)"
   ]
  },
  {
   "cell_type": "code",
   "execution_count": 22,
   "id": "3fce8731-003c-4786-be7d-800b47915a16",
   "metadata": {},
   "outputs": [],
   "source": [
    "def my_floor(a, precision=3):\n",
    "    return np.round(a - 0.5 * 10**(-precision), precision)\n",
    "df_solution['value'] = df_solution['value'].apply(my_floor)\n",
    "\n",
    "df_solution.to_csv('./Output/Highscore_tests/solution.csv', index=False)"
   ]
  },
  {
   "cell_type": "code",
   "execution_count": 73,
   "id": "3105fe96-438f-44f8-bce5-44fb74d16196",
   "metadata": {},
   "outputs": [],
   "source": [
    "#Check for Constraint 5\n",
    "supply_2019 =[]\n",
    "supply_2020 = []\n",
    "for i,row in df_solution[(df_solution['year']==2019)& ((df_solution['data_type']=='DS'))].groupby(['supply_point_index']).sum().iterrows():\n",
    "    temp = df_solution['value'][(df_solution['year']==2019)& ((df_solution['data_type']=='SCS'))][i]*200 + df_solution['value'][(df_solution['year']==2019)& ((df_solution['data_type']=='FCS'))][i]*400\n",
    "    if row.value > temp:\n",
    "        supply_2019.append(i)\n",
    "for i,row in df_solution[(df_solution['year']==2020)& ((df_solution['data_type']=='DS'))].groupby(['supply_point_index']).sum().iterrows():\n",
    "    temp = df_solution['value'][(df_solution['year']==2020)& ((df_solution['data_type']=='SCS'))][i]*200 + df_solution['value'][(df_solution['year']==2020)& ((df_solution['data_type']=='FCS'))][i]*400\n",
    "    if row.value > temp:\n",
    "        supply_2020.append(i)\n"
   ]
  },
  {
   "cell_type": "code",
   "execution_count": 173,
   "id": "737b8e02-0ae1-4917-8772-895f81be0756",
   "metadata": {
    "scrolled": true,
    "tags": []
   },
   "outputs": [
    {
     "ename": "KeyError",
     "evalue": "0",
     "output_type": "error",
     "traceback": [
      "\u001b[0;31m---------------------------------------------------------------------------\u001b[0m",
      "\u001b[0;31mKeyError\u001b[0m                                  Traceback (most recent call last)",
      "File \u001b[0;32m~/miniforge3/envs/kerasEnv/lib/python3.10/site-packages/pandas/core/indexes/base.py:3629\u001b[0m, in \u001b[0;36mIndex.get_loc\u001b[0;34m(self, key, method, tolerance)\u001b[0m\n\u001b[1;32m   3628\u001b[0m \u001b[38;5;28;01mtry\u001b[39;00m:\n\u001b[0;32m-> 3629\u001b[0m     \u001b[38;5;28;01mreturn\u001b[39;00m \u001b[38;5;28;43mself\u001b[39;49m\u001b[38;5;241;43m.\u001b[39;49m\u001b[43m_engine\u001b[49m\u001b[38;5;241;43m.\u001b[39;49m\u001b[43mget_loc\u001b[49m\u001b[43m(\u001b[49m\u001b[43mcasted_key\u001b[49m\u001b[43m)\u001b[49m\n\u001b[1;32m   3630\u001b[0m \u001b[38;5;28;01mexcept\u001b[39;00m \u001b[38;5;167;01mKeyError\u001b[39;00m \u001b[38;5;28;01mas\u001b[39;00m err:\n",
      "File \u001b[0;32m~/miniforge3/envs/kerasEnv/lib/python3.10/site-packages/pandas/_libs/index.pyx:136\u001b[0m, in \u001b[0;36mpandas._libs.index.IndexEngine.get_loc\u001b[0;34m()\u001b[0m\n",
      "File \u001b[0;32m~/miniforge3/envs/kerasEnv/lib/python3.10/site-packages/pandas/_libs/index.pyx:163\u001b[0m, in \u001b[0;36mpandas._libs.index.IndexEngine.get_loc\u001b[0;34m()\u001b[0m\n",
      "File \u001b[0;32mpandas/_libs/hashtable_class_helper.pxi:2131\u001b[0m, in \u001b[0;36mpandas._libs.hashtable.Int64HashTable.get_item\u001b[0;34m()\u001b[0m\n",
      "File \u001b[0;32mpandas/_libs/hashtable_class_helper.pxi:2140\u001b[0m, in \u001b[0;36mpandas._libs.hashtable.Int64HashTable.get_item\u001b[0;34m()\u001b[0m\n",
      "\u001b[0;31mKeyError\u001b[0m: 0",
      "\nThe above exception was the direct cause of the following exception:\n",
      "\u001b[0;31mKeyError\u001b[0m                                  Traceback (most recent call last)",
      "Cell \u001b[0;32mIn [173], line 2\u001b[0m\n\u001b[1;32m      1\u001b[0m \u001b[38;5;28;01mfor\u001b[39;00m i,row \u001b[38;5;129;01min\u001b[39;00m df_solution[(df_solution[\u001b[38;5;124m'\u001b[39m\u001b[38;5;124myear\u001b[39m\u001b[38;5;124m'\u001b[39m]\u001b[38;5;241m==\u001b[39m\u001b[38;5;241m2019\u001b[39m)\u001b[38;5;241m&\u001b[39m ((df_solution[\u001b[38;5;124m'\u001b[39m\u001b[38;5;124mdata_type\u001b[39m\u001b[38;5;124m'\u001b[39m]\u001b[38;5;241m==\u001b[39m\u001b[38;5;124m'\u001b[39m\u001b[38;5;124mDS\u001b[39m\u001b[38;5;124m'\u001b[39m))]\u001b[38;5;241m.\u001b[39mgroupby([\u001b[38;5;124m'\u001b[39m\u001b[38;5;124msupply_point_index\u001b[39m\u001b[38;5;124m'\u001b[39m])\u001b[38;5;241m.\u001b[39msum()\u001b[38;5;241m.\u001b[39miterrows():\n\u001b[0;32m----> 2\u001b[0m     temp \u001b[38;5;241m=\u001b[39m df_solution[\u001b[38;5;124m'\u001b[39m\u001b[38;5;124mvalue\u001b[39m\u001b[38;5;124m'\u001b[39m][(df_solution[\u001b[38;5;124m'\u001b[39m\u001b[38;5;124myear\u001b[39m\u001b[38;5;124m'\u001b[39m]\u001b[38;5;241m==\u001b[39m\u001b[38;5;241m2019\u001b[39m)\u001b[38;5;241m&\u001b[39m ((df_solution[\u001b[38;5;124m'\u001b[39m\u001b[38;5;124mdata_type\u001b[39m\u001b[38;5;124m'\u001b[39m]\u001b[38;5;241m==\u001b[39m\u001b[38;5;124m'\u001b[39m\u001b[38;5;124mSCS\u001b[39m\u001b[38;5;124m'\u001b[39m))][i]\u001b[38;5;241m*\u001b[39m\u001b[38;5;241m200\u001b[39m \u001b[38;5;241m+\u001b[39m \u001b[43mdf_solution\u001b[49m\u001b[43m[\u001b[49m\u001b[38;5;124;43m'\u001b[39;49m\u001b[38;5;124;43mvalue\u001b[39;49m\u001b[38;5;124;43m'\u001b[39;49m\u001b[43m]\u001b[49m\u001b[43m[\u001b[49m\u001b[43m(\u001b[49m\u001b[43mdf_solution\u001b[49m\u001b[43m[\u001b[49m\u001b[38;5;124;43m'\u001b[39;49m\u001b[38;5;124;43myear\u001b[39;49m\u001b[38;5;124;43m'\u001b[39;49m\u001b[43m]\u001b[49m\u001b[38;5;241;43m==\u001b[39;49m\u001b[38;5;241;43m2019\u001b[39;49m\u001b[43m)\u001b[49m\u001b[38;5;241;43m&\u001b[39;49m\u001b[43m \u001b[49m\u001b[43m(\u001b[49m\u001b[43m(\u001b[49m\u001b[43mdf_solution\u001b[49m\u001b[43m[\u001b[49m\u001b[38;5;124;43m'\u001b[39;49m\u001b[38;5;124;43mdata_type\u001b[39;49m\u001b[38;5;124;43m'\u001b[39;49m\u001b[43m]\u001b[49m\u001b[38;5;241;43m==\u001b[39;49m\u001b[38;5;124;43m'\u001b[39;49m\u001b[38;5;124;43mFCS\u001b[39;49m\u001b[38;5;124;43m'\u001b[39;49m\u001b[43m)\u001b[49m\u001b[43m)\u001b[49m\u001b[43m]\u001b[49m\u001b[43m[\u001b[49m\u001b[43mi\u001b[49m\u001b[43m]\u001b[49m\u001b[38;5;241m*\u001b[39m\u001b[38;5;241m400\u001b[39m\n\u001b[1;32m      3\u001b[0m     \u001b[38;5;28;01mif\u001b[39;00m row\u001b[38;5;241m.\u001b[39mvalue \u001b[38;5;241m>\u001b[39m temp:\n\u001b[1;32m      4\u001b[0m         \u001b[38;5;28mprint\u001b[39m(row\u001b[38;5;241m.\u001b[39mvalue)\n",
      "File \u001b[0;32m~/miniforge3/envs/kerasEnv/lib/python3.10/site-packages/pandas/core/series.py:958\u001b[0m, in \u001b[0;36mSeries.__getitem__\u001b[0;34m(self, key)\u001b[0m\n\u001b[1;32m    955\u001b[0m     \u001b[38;5;28;01mreturn\u001b[39;00m \u001b[38;5;28mself\u001b[39m\u001b[38;5;241m.\u001b[39m_values[key]\n\u001b[1;32m    957\u001b[0m \u001b[38;5;28;01melif\u001b[39;00m key_is_scalar:\n\u001b[0;32m--> 958\u001b[0m     \u001b[38;5;28;01mreturn\u001b[39;00m \u001b[38;5;28;43mself\u001b[39;49m\u001b[38;5;241;43m.\u001b[39;49m\u001b[43m_get_value\u001b[49m\u001b[43m(\u001b[49m\u001b[43mkey\u001b[49m\u001b[43m)\u001b[49m\n\u001b[1;32m    960\u001b[0m \u001b[38;5;28;01mif\u001b[39;00m is_hashable(key):\n\u001b[1;32m    961\u001b[0m     \u001b[38;5;66;03m# Otherwise index.get_value will raise InvalidIndexError\u001b[39;00m\n\u001b[1;32m    962\u001b[0m     \u001b[38;5;28;01mtry\u001b[39;00m:\n\u001b[1;32m    963\u001b[0m         \u001b[38;5;66;03m# For labels that don't resolve as scalars like tuples and frozensets\u001b[39;00m\n",
      "File \u001b[0;32m~/miniforge3/envs/kerasEnv/lib/python3.10/site-packages/pandas/core/series.py:1069\u001b[0m, in \u001b[0;36mSeries._get_value\u001b[0;34m(self, label, takeable)\u001b[0m\n\u001b[1;32m   1066\u001b[0m     \u001b[38;5;28;01mreturn\u001b[39;00m \u001b[38;5;28mself\u001b[39m\u001b[38;5;241m.\u001b[39m_values[label]\n\u001b[1;32m   1068\u001b[0m \u001b[38;5;66;03m# Similar to Index.get_value, but we do not fall back to positional\u001b[39;00m\n\u001b[0;32m-> 1069\u001b[0m loc \u001b[38;5;241m=\u001b[39m \u001b[38;5;28;43mself\u001b[39;49m\u001b[38;5;241;43m.\u001b[39;49m\u001b[43mindex\u001b[49m\u001b[38;5;241;43m.\u001b[39;49m\u001b[43mget_loc\u001b[49m\u001b[43m(\u001b[49m\u001b[43mlabel\u001b[49m\u001b[43m)\u001b[49m\n\u001b[1;32m   1070\u001b[0m \u001b[38;5;28;01mreturn\u001b[39;00m \u001b[38;5;28mself\u001b[39m\u001b[38;5;241m.\u001b[39mindex\u001b[38;5;241m.\u001b[39m_get_values_for_loc(\u001b[38;5;28mself\u001b[39m, loc, label)\n",
      "File \u001b[0;32m~/miniforge3/envs/kerasEnv/lib/python3.10/site-packages/pandas/core/indexes/base.py:3631\u001b[0m, in \u001b[0;36mIndex.get_loc\u001b[0;34m(self, key, method, tolerance)\u001b[0m\n\u001b[1;32m   3629\u001b[0m     \u001b[38;5;28;01mreturn\u001b[39;00m \u001b[38;5;28mself\u001b[39m\u001b[38;5;241m.\u001b[39m_engine\u001b[38;5;241m.\u001b[39mget_loc(casted_key)\n\u001b[1;32m   3630\u001b[0m \u001b[38;5;28;01mexcept\u001b[39;00m \u001b[38;5;167;01mKeyError\u001b[39;00m \u001b[38;5;28;01mas\u001b[39;00m err:\n\u001b[0;32m-> 3631\u001b[0m     \u001b[38;5;28;01mraise\u001b[39;00m \u001b[38;5;167;01mKeyError\u001b[39;00m(key) \u001b[38;5;28;01mfrom\u001b[39;00m \u001b[38;5;21;01merr\u001b[39;00m\n\u001b[1;32m   3632\u001b[0m \u001b[38;5;28;01mexcept\u001b[39;00m \u001b[38;5;167;01mTypeError\u001b[39;00m:\n\u001b[1;32m   3633\u001b[0m     \u001b[38;5;66;03m# If we have a listlike key, _check_indexing_error will raise\u001b[39;00m\n\u001b[1;32m   3634\u001b[0m     \u001b[38;5;66;03m#  InvalidIndexError. Otherwise we fall through and re-raise\u001b[39;00m\n\u001b[1;32m   3635\u001b[0m     \u001b[38;5;66;03m#  the TypeError.\u001b[39;00m\n\u001b[1;32m   3636\u001b[0m     \u001b[38;5;28mself\u001b[39m\u001b[38;5;241m.\u001b[39m_check_indexing_error(key)\n",
      "\u001b[0;31mKeyError\u001b[0m: 0"
     ]
    }
   ],
   "source": [
    "for i,row in df_solution[(df_solution['year']==2019)& ((df_solution['data_type']=='DS'))].groupby(['supply_point_index']).sum().iterrows():\n",
    "    temp = df_solution['value'][(df_solution['year']==2019)& ((df_solution['data_type']=='SCS'))][i]*200 + df_solution['value'][(df_solution['year']==2019)& ((df_solution['data_type']=='FCS'))][i]*400\n",
    "    if row.value > temp:\n",
    "        print(row.value)\n",
    "        print(temp)\n",
    "        print(row)"
   ]
  },
  {
   "cell_type": "code",
   "execution_count": 172,
   "id": "2eb8fa41-e880-4c50-b74b-d2036a2bbe8d",
   "metadata": {},
   "outputs": [],
   "source": [
    "count = 0\n",
    "for i,row in df_solution[(df_solution['year']==2019)& ((df_solution['data_type']=='DS'))].groupby(['supply_point_index']).sum().iterrows():\n",
    "    temp =float(df_solution['value'][(df_solution['year']==2019)& (df_solution['data_type']=='SCS') & (df_solution['supply_point_index']==i)] * 200) + float(df_solution['value'][(df_solution['year']==2019)& (df_solution['data_type']=='FCS') & (df_solution['supply_point_index']==i)]*400)\n",
    "    index_FCS = df_solution[(df_solution['year']==2019)& (df_solution['data_type']=='FCS') & (df_solution['supply_point_index']==i)].index\n",
    "    index_SCS = df_solution[(df_solution['year']==2019)& (df_solution['data_type']=='SCS') & (df_solution['supply_point_index']==i)].index\n",
    "    if  float(row.value)+400 < temp:\n",
    "        tear_down = float(int((temp - row.value)/400))\n",
    "        existing = float(df_solution[(df_solution['year']==2019)& (df_solution['data_type']=='FCS')& (df_solution['supply_point_index']==i)].value)\n",
    "        if tear_down < existing:\n",
    "            if (float(df_solution.loc[index_FCS[0],'value']) - (existing-tear_down)) > float(df.loc[df['supply_point_index'] == i,'existing_num_FCS']):\n",
    "                df_solution.loc[index_FCS[0],'value'] = existing-tear_down\n",
    "            else:\n",
    "                df_solution.loc[index_FCS[0],'value'] = float(df.loc[df['supply_point_index'] == i,'existing_num_FCS'])\n",
    "        else:\n",
    "            tear_down = tear_down - existing\n",
    "            if 0 == float(df.loc[df['supply_point_index'] == i,'existing_num_FCS']):\n",
    "                df_solution.loc[index_FCS[0],'value'] = 0\n",
    "            if tear_down == float(df.loc[df['supply_point_index'] == i,'existing_num_FCS']):\n",
    "                df_solution.loc[index_SCS[0],'value'] = tear_down\n"
   ]
  },
  {
   "cell_type": "code",
   "execution_count": 156,
   "id": "407a6bc8-24b7-4fa9-bef0-45c60699d9bb",
   "metadata": {},
   "outputs": [],
   "source": [
    "count = 0\n",
    "for i,row in df_solution[(df_solution['year']==2020)& ((df_solution['data_type']=='DS'))].groupby(['supply_point_index']).sum().iterrows():\n",
    "    temp =float(df_solution['value'][(df_solution['year']==2020)& (df_solution['data_type']=='SCS') & (df_solution['supply_point_index']==i)] * 200) + float(df_solution['value'][(df_solution['year']==2020)& (df_solution['data_type']=='FCS') & (df_solution['supply_point_index']==i)]*400)\n",
    "    index_FCS = df_solution[(df_solution['year']==2020)& (df_solution['data_type']=='FCS') & (df_solution['supply_point_index']==i)].index\n",
    "    index_SCS = df_solution[(df_solution['year']==2020)& (df_solution['data_type']=='SCS') & (df_solution['supply_point_index']==i)].index\n",
    "    if  float(row.value)+400 < temp:\n",
    "        tear_down = float(int((temp - row.value)/400))\n",
    "        existing = float(df_solution[(df_solution['year']==2020)& (df_solution['data_type']=='FCS')& (df_solution['supply_point_index']==i)].value)\n",
    "        if tear_down < existing:\n",
    "            \n",
    "            df_solution.loc[index_FCS[0],'value'] = existing-tear_down\n",
    "        else:\n",
    "            tear_down = tear_down - existing\n",
    "            df_solution.loc[index_FCS[0],'value'] = 0\n",
    "            df_solution.loc[index_SCS[0],'value'] = tear_down\n",
    "\n"
   ]
  },
  {
   "cell_type": "code",
   "execution_count": 129,
   "id": "fc2826cd-0433-47e0-850b-88f42dc4b574",
   "metadata": {},
   "outputs": [
    {
     "data": {
      "text/html": [
       "<div>\n",
       "<style scoped>\n",
       "    .dataframe tbody tr th:only-of-type {\n",
       "        vertical-align: middle;\n",
       "    }\n",
       "\n",
       "    .dataframe tbody tr th {\n",
       "        vertical-align: top;\n",
       "    }\n",
       "\n",
       "    .dataframe thead th {\n",
       "        text-align: right;\n",
       "    }\n",
       "</style>\n",
       "<table border=\"1\" class=\"dataframe\">\n",
       "  <thead>\n",
       "    <tr style=\"text-align: right;\">\n",
       "      <th></th>\n",
       "      <th>index</th>\n",
       "      <th>year</th>\n",
       "      <th>data_type</th>\n",
       "      <th>demand_point_index</th>\n",
       "      <th>supply_point_index</th>\n",
       "      <th>value</th>\n",
       "    </tr>\n",
       "  </thead>\n",
       "  <tbody>\n",
       "  </tbody>\n",
       "</table>\n",
       "</div>"
      ],
      "text/plain": [
       "Empty DataFrame\n",
       "Columns: [index, year, data_type, demand_point_index, supply_point_index, value]\n",
       "Index: []"
      ]
     },
     "execution_count": 129,
     "metadata": {},
     "output_type": "execute_result"
    }
   ],
   "source": [
    "#Check for Constraint 1\n",
    "df_solution[(df_solution.value<0)]"
   ]
  },
  {
   "cell_type": "code",
   "execution_count": 170,
   "id": "f3ba4670-d60e-46aa-b942-9c6976eb3b13",
   "metadata": {},
   "outputs": [
    {
     "data": {
      "text/plain": [
       "2     6.0\n",
       "2    14.0\n",
       "2     6.0\n",
       "2    14.0\n",
       "2    -0.0\n",
       "2    -0.0\n",
       "Name: value, dtype: float64"
      ]
     },
     "execution_count": 170,
     "metadata": {},
     "output_type": "execute_result"
    }
   ],
   "source": [
    "df_solution.loc[index_FCS[0],'value']"
   ]
  },
  {
   "cell_type": "code",
   "execution_count": 11,
   "id": "7c29926a-bba1-4295-94d1-31b31c99dbfe",
   "metadata": {},
   "outputs": [
    {
     "data": {
      "text/plain": [
       "1091892.5670000003"
      ]
     },
     "execution_count": 11,
     "metadata": {},
     "output_type": "execute_result"
    }
   ],
   "source": [
    "df_solution.value.sum()"
   ]
  },
  {
   "cell_type": "code",
   "execution_count": 174,
   "id": "5457cc84-03b7-47f8-a6c9-45e20ca4e915",
   "metadata": {},
   "outputs": [],
   "source": [
    "df_solution.to_csv('./Output/Highscore_tests/solution.csv', index=False)"
   ]
  },
  {
   "cell_type": "code",
   "execution_count": 176,
   "id": "2e281e86-a5be-46b7-8ffa-ab0829c997bc",
   "metadata": {},
   "outputs": [
    {
     "name": "stdout",
     "output_type": "stream",
     "text": [
      "2799.61\n",
      "6800.0\n",
      "2\n",
      "906.024\n",
      "4600.0\n",
      "4\n",
      "792.543\n",
      "4200.0\n",
      "5\n",
      "3716.547\n",
      "4400.0\n",
      "19\n",
      "3725.18\n",
      "4400.0\n",
      "20\n",
      "1330.065\n",
      "3600.0\n",
      "23\n",
      "3720.653\n",
      "5200.0\n",
      "25\n",
      "3696.793\n",
      "5400.0\n",
      "32\n",
      "5818.289\n",
      "6600.0\n",
      "49\n",
      "1340.003\n",
      "3400.0\n",
      "52\n",
      "4690.446\n",
      "6800.0\n",
      "53\n",
      "2333.327\n",
      "4800.0\n",
      "56\n",
      "782.371\n",
      "2800.0\n",
      "58\n",
      "89.423\n",
      "600.0\n",
      "61\n",
      "2038.317\n",
      "5000.0\n",
      "62\n",
      "2688.455\n",
      "3200.0\n",
      "63\n",
      "3599.373\n",
      "5200.0\n",
      "71\n",
      "4928.862\n",
      "6600.0\n",
      "75\n",
      "2949.9719999999998\n",
      "5800.0\n",
      "77\n",
      "3689.802\n",
      "5200.0\n",
      "80\n"
     ]
    }
   ],
   "source": [
    "for i,row in df_solution[(df_solution['year']==2019)& ((df_solution['data_type']=='DS'))].groupby(['supply_point_index']).sum().iterrows():\n",
    "    temp =float(df_solution['value'][(df_solution['year']==2019)& (df_solution['data_type']=='SCS') & (df_solution['supply_point_index']==i)] * 200) + float(df_solution['value'][(df_solution['year']==2019)& (df_solution['data_type']=='FCS') & (df_solution['supply_point_index']==i)]*400)\n",
    "    index_FCS = df_solution[(df_solution['year']==2019)& (df_solution['data_type']=='FCS') & (df_solution['supply_point_index']==i)].index\n",
    "    index_SCS = df_solution[(df_solution['year']==2019)& (df_solution['data_type']=='SCS') & (df_solution['supply_point_index']==i)].index\n",
    "    if  float(row.value)+400 < temp:\n",
    "        print(row.value)\n",
    "        print(temp)\n",
    "        print(i)"
   ]
  },
  {
   "cell_type": "code",
   "execution_count": 177,
   "id": "ae883e7b-2302-42de-84f0-0fbeb22c43a6",
   "metadata": {},
   "outputs": [
    {
     "data": {
      "text/html": [
       "<div>\n",
       "<style scoped>\n",
       "    .dataframe tbody tr th:only-of-type {\n",
       "        vertical-align: middle;\n",
       "    }\n",
       "\n",
       "    .dataframe tbody tr th {\n",
       "        vertical-align: top;\n",
       "    }\n",
       "\n",
       "    .dataframe thead th {\n",
       "        text-align: right;\n",
       "    }\n",
       "</style>\n",
       "<table border=\"1\" class=\"dataframe\">\n",
       "  <thead>\n",
       "    <tr style=\"text-align: right;\">\n",
       "      <th></th>\n",
       "      <th>supply_point_index</th>\n",
       "      <th>x_coordinate</th>\n",
       "      <th>y_coordinate</th>\n",
       "      <th>total_parking_slots</th>\n",
       "      <th>existing_num_SCS</th>\n",
       "      <th>existing_num_FCS</th>\n",
       "    </tr>\n",
       "  </thead>\n",
       "  <tbody>\n",
       "    <tr>\n",
       "      <th>0</th>\n",
       "      <td>0</td>\n",
       "      <td>50.163110</td>\n",
       "      <td>19.412014</td>\n",
       "      <td>23</td>\n",
       "      <td>5</td>\n",
       "      <td>3</td>\n",
       "    </tr>\n",
       "    <tr>\n",
       "      <th>1</th>\n",
       "      <td>1</td>\n",
       "      <td>37.336451</td>\n",
       "      <td>58.119225</td>\n",
       "      <td>27</td>\n",
       "      <td>4</td>\n",
       "      <td>7</td>\n",
       "    </tr>\n",
       "    <tr>\n",
       "      <th>2</th>\n",
       "      <td>2</td>\n",
       "      <td>46.709232</td>\n",
       "      <td>57.525650</td>\n",
       "      <td>31</td>\n",
       "      <td>6</td>\n",
       "      <td>14</td>\n",
       "    </tr>\n",
       "    <tr>\n",
       "      <th>3</th>\n",
       "      <td>3</td>\n",
       "      <td>30.528626</td>\n",
       "      <td>55.379835</td>\n",
       "      <td>26</td>\n",
       "      <td>5</td>\n",
       "      <td>5</td>\n",
       "    </tr>\n",
       "    <tr>\n",
       "      <th>4</th>\n",
       "      <td>4</td>\n",
       "      <td>51.521781</td>\n",
       "      <td>35.116755</td>\n",
       "      <td>32</td>\n",
       "      <td>11</td>\n",
       "      <td>6</td>\n",
       "    </tr>\n",
       "    <tr>\n",
       "      <th>...</th>\n",
       "      <td>...</td>\n",
       "      <td>...</td>\n",
       "      <td>...</td>\n",
       "      <td>...</td>\n",
       "      <td>...</td>\n",
       "      <td>...</td>\n",
       "    </tr>\n",
       "    <tr>\n",
       "      <th>95</th>\n",
       "      <td>95</td>\n",
       "      <td>45.471204</td>\n",
       "      <td>20.999414</td>\n",
       "      <td>24</td>\n",
       "      <td>3</td>\n",
       "      <td>4</td>\n",
       "    </tr>\n",
       "    <tr>\n",
       "      <th>96</th>\n",
       "      <td>96</td>\n",
       "      <td>30.318396</td>\n",
       "      <td>33.388335</td>\n",
       "      <td>32</td>\n",
       "      <td>5</td>\n",
       "      <td>10</td>\n",
       "    </tr>\n",
       "    <tr>\n",
       "      <th>97</th>\n",
       "      <td>97</td>\n",
       "      <td>36.218839</td>\n",
       "      <td>22.235766</td>\n",
       "      <td>32</td>\n",
       "      <td>4</td>\n",
       "      <td>14</td>\n",
       "    </tr>\n",
       "    <tr>\n",
       "      <th>98</th>\n",
       "      <td>98</td>\n",
       "      <td>42.936915</td>\n",
       "      <td>38.122442</td>\n",
       "      <td>28</td>\n",
       "      <td>7</td>\n",
       "      <td>5</td>\n",
       "    </tr>\n",
       "    <tr>\n",
       "      <th>99</th>\n",
       "      <td>99</td>\n",
       "      <td>19.590263</td>\n",
       "      <td>3.830284</td>\n",
       "      <td>24</td>\n",
       "      <td>2</td>\n",
       "      <td>11</td>\n",
       "    </tr>\n",
       "  </tbody>\n",
       "</table>\n",
       "<p>100 rows × 6 columns</p>\n",
       "</div>"
      ],
      "text/plain": [
       "    supply_point_index  x_coordinate  y_coordinate  total_parking_slots  \\\n",
       "0                    0     50.163110     19.412014                   23   \n",
       "1                    1     37.336451     58.119225                   27   \n",
       "2                    2     46.709232     57.525650                   31   \n",
       "3                    3     30.528626     55.379835                   26   \n",
       "4                    4     51.521781     35.116755                   32   \n",
       "..                 ...           ...           ...                  ...   \n",
       "95                  95     45.471204     20.999414                   24   \n",
       "96                  96     30.318396     33.388335                   32   \n",
       "97                  97     36.218839     22.235766                   32   \n",
       "98                  98     42.936915     38.122442                   28   \n",
       "99                  99     19.590263      3.830284                   24   \n",
       "\n",
       "    existing_num_SCS  existing_num_FCS  \n",
       "0                  5                 3  \n",
       "1                  4                 7  \n",
       "2                  6                14  \n",
       "3                  5                 5  \n",
       "4                 11                 6  \n",
       "..               ...               ...  \n",
       "95                 3                 4  \n",
       "96                 5                10  \n",
       "97                 4                14  \n",
       "98                 7                 5  \n",
       "99                 2                11  \n",
       "\n",
       "[100 rows x 6 columns]"
      ]
     },
     "execution_count": 177,
     "metadata": {},
     "output_type": "execute_result"
    }
   ],
   "source": [
    "df"
   ]
  },
  {
   "cell_type": "code",
   "execution_count": null,
   "id": "8a8941c4-4900-4a45-8844-0bc2c4645084",
   "metadata": {},
   "outputs": [],
   "source": []
  }
 ],
 "metadata": {
  "kernelspec": {
   "display_name": "Python 3 (ipykernel)",
   "language": "python",
   "name": "python3"
  },
  "language_info": {
   "codemirror_mode": {
    "name": "ipython",
    "version": 3
   },
   "file_extension": ".py",
   "mimetype": "text/x-python",
   "name": "python",
   "nbconvert_exporter": "python",
   "pygments_lexer": "ipython3",
   "version": "3.10.6"
  }
 },
 "nbformat": 4,
 "nbformat_minor": 5
}
